{
 "cells": [
  {
   "cell_type": "code",
   "execution_count": 1,
   "metadata": {},
   "outputs": [],
   "source": [
    "import pandas as pd\n",
    "from datetime import datetime\n",
    "import sqlite3\n",
    "import numpy as np\n",
    "\n",
    "import matplotlib.pyplot as plt"
   ]
  },
  {
   "cell_type": "code",
   "execution_count": 2,
   "metadata": {},
   "outputs": [
    {
     "name": "stdout",
     "output_type": "stream",
     "text": [
      "\u001b[34mImages\u001b[m\u001b[m                          README.md\r\n",
      "Marshall's Notebook.ipynb       \u001b[34mzippedData\u001b[m\u001b[m\r\n",
      "Microsoft Studio Analysis.ipynb\r\n"
     ]
    }
   ],
   "source": [
    "!ls"
   ]
  },
  {
   "cell_type": "markdown",
   "metadata": {},
   "source": [
    "Read in HBO_Max_Content.csv"
   ]
  },
  {
   "cell_type": "code",
   "execution_count": 34,
   "metadata": {},
   "outputs": [],
   "source": [
    "HBO_max_content = pd.read_csv('./zippedData/HBO_MAX_Content.csv')"
   ]
  },
  {
   "cell_type": "markdown",
   "metadata": {},
   "source": [
    "## Explore the data"
   ]
  },
  {
   "cell_type": "code",
   "execution_count": 4,
   "metadata": {},
   "outputs": [
    {
     "data": {
      "text/html": [
       "<div>\n",
       "<style scoped>\n",
       "    .dataframe tbody tr th:only-of-type {\n",
       "        vertical-align: middle;\n",
       "    }\n",
       "\n",
       "    .dataframe tbody tr th {\n",
       "        vertical-align: top;\n",
       "    }\n",
       "\n",
       "    .dataframe thead th {\n",
       "        text-align: right;\n",
       "    }\n",
       "</style>\n",
       "<table border=\"1\" class=\"dataframe\">\n",
       "  <thead>\n",
       "    <tr style=\"text-align: right;\">\n",
       "      <th></th>\n",
       "      <th>title</th>\n",
       "      <th>type</th>\n",
       "      <th>year</th>\n",
       "      <th>rating</th>\n",
       "      <th>imdb_score</th>\n",
       "      <th>rotten_score</th>\n",
       "      <th>decade</th>\n",
       "      <th>imdb_bucket</th>\n",
       "      <th>genres_Action_Adventure</th>\n",
       "      <th>genres_Animation</th>\n",
       "      <th>...</th>\n",
       "      <th>platforms_shudder</th>\n",
       "      <th>platforms_starz</th>\n",
       "      <th>platforms_sundancenow</th>\n",
       "      <th>platforms_syfy_tveverywhere</th>\n",
       "      <th>platforms_tbs</th>\n",
       "      <th>platforms_tnt</th>\n",
       "      <th>platforms_trutv_tveverywhere</th>\n",
       "      <th>platforms_urbanmoviechannel</th>\n",
       "      <th>platforms_velocity_go</th>\n",
       "      <th>platforms_watch_tcm</th>\n",
       "    </tr>\n",
       "  </thead>\n",
       "  <tbody>\n",
       "    <tr>\n",
       "      <th>0</th>\n",
       "      <td>Game of Thrones</td>\n",
       "      <td>TV</td>\n",
       "      <td>2011</td>\n",
       "      <td>R/TV-MA</td>\n",
       "      <td>9.3</td>\n",
       "      <td>89.0</td>\n",
       "      <td>2010-2019</td>\n",
       "      <td>9.01-9.50</td>\n",
       "      <td>1</td>\n",
       "      <td>0</td>\n",
       "      <td>...</td>\n",
       "      <td>0</td>\n",
       "      <td>0</td>\n",
       "      <td>0</td>\n",
       "      <td>0</td>\n",
       "      <td>0</td>\n",
       "      <td>0</td>\n",
       "      <td>0</td>\n",
       "      <td>0</td>\n",
       "      <td>0</td>\n",
       "      <td>0</td>\n",
       "    </tr>\n",
       "    <tr>\n",
       "      <th>1</th>\n",
       "      <td>Rick and Morty</td>\n",
       "      <td>TV</td>\n",
       "      <td>2013</td>\n",
       "      <td>R/TV-MA</td>\n",
       "      <td>9.2</td>\n",
       "      <td>94.0</td>\n",
       "      <td>2010-2019</td>\n",
       "      <td>9.01-9.50</td>\n",
       "      <td>1</td>\n",
       "      <td>1</td>\n",
       "      <td>...</td>\n",
       "      <td>0</td>\n",
       "      <td>0</td>\n",
       "      <td>0</td>\n",
       "      <td>0</td>\n",
       "      <td>0</td>\n",
       "      <td>0</td>\n",
       "      <td>0</td>\n",
       "      <td>0</td>\n",
       "      <td>0</td>\n",
       "      <td>0</td>\n",
       "    </tr>\n",
       "    <tr>\n",
       "      <th>2</th>\n",
       "      <td>The Lord of the Rings: The Fellowship of the Ring</td>\n",
       "      <td>NaN</td>\n",
       "      <td>2001</td>\n",
       "      <td>PG-13/TV-14</td>\n",
       "      <td>8.8</td>\n",
       "      <td>91.0</td>\n",
       "      <td>2000-2009</td>\n",
       "      <td>8.51-9.00</td>\n",
       "      <td>1</td>\n",
       "      <td>0</td>\n",
       "      <td>...</td>\n",
       "      <td>0</td>\n",
       "      <td>0</td>\n",
       "      <td>0</td>\n",
       "      <td>0</td>\n",
       "      <td>0</td>\n",
       "      <td>0</td>\n",
       "      <td>0</td>\n",
       "      <td>0</td>\n",
       "      <td>0</td>\n",
       "      <td>0</td>\n",
       "    </tr>\n",
       "    <tr>\n",
       "      <th>3</th>\n",
       "      <td>Fight Club</td>\n",
       "      <td>NaN</td>\n",
       "      <td>1999</td>\n",
       "      <td>R/TV-MA</td>\n",
       "      <td>8.8</td>\n",
       "      <td>79.0</td>\n",
       "      <td>1990-1999</td>\n",
       "      <td>8.51-9.00</td>\n",
       "      <td>0</td>\n",
       "      <td>0</td>\n",
       "      <td>...</td>\n",
       "      <td>0</td>\n",
       "      <td>0</td>\n",
       "      <td>0</td>\n",
       "      <td>0</td>\n",
       "      <td>0</td>\n",
       "      <td>0</td>\n",
       "      <td>0</td>\n",
       "      <td>0</td>\n",
       "      <td>0</td>\n",
       "      <td>0</td>\n",
       "    </tr>\n",
       "    <tr>\n",
       "      <th>4</th>\n",
       "      <td>The Lord of the Rings: The Two Towers</td>\n",
       "      <td>NaN</td>\n",
       "      <td>2002</td>\n",
       "      <td>PG-13/TV-14</td>\n",
       "      <td>8.7</td>\n",
       "      <td>95.0</td>\n",
       "      <td>2000-2009</td>\n",
       "      <td>8.51-9.00</td>\n",
       "      <td>1</td>\n",
       "      <td>0</td>\n",
       "      <td>...</td>\n",
       "      <td>0</td>\n",
       "      <td>0</td>\n",
       "      <td>0</td>\n",
       "      <td>0</td>\n",
       "      <td>0</td>\n",
       "      <td>0</td>\n",
       "      <td>0</td>\n",
       "      <td>0</td>\n",
       "      <td>0</td>\n",
       "      <td>0</td>\n",
       "    </tr>\n",
       "  </tbody>\n",
       "</table>\n",
       "<p>5 rows × 75 columns</p>\n",
       "</div>"
      ],
      "text/plain": [
       "                                               title type  year       rating  \\\n",
       "0                                    Game of Thrones   TV  2011      R/TV-MA   \n",
       "1                                     Rick and Morty   TV  2013      R/TV-MA   \n",
       "2  The Lord of the Rings: The Fellowship of the Ring  NaN  2001  PG-13/TV-14   \n",
       "3                                         Fight Club  NaN  1999      R/TV-MA   \n",
       "4              The Lord of the Rings: The Two Towers  NaN  2002  PG-13/TV-14   \n",
       "\n",
       "   imdb_score  rotten_score     decade imdb_bucket  genres_Action_Adventure  \\\n",
       "0         9.3          89.0  2010-2019   9.01-9.50                        1   \n",
       "1         9.2          94.0  2010-2019   9.01-9.50                        1   \n",
       "2         8.8          91.0  2000-2009   8.51-9.00                        1   \n",
       "3         8.8          79.0  1990-1999   8.51-9.00                        0   \n",
       "4         8.7          95.0  2000-2009   8.51-9.00                        1   \n",
       "\n",
       "   genres_Animation  ...  platforms_shudder  platforms_starz  \\\n",
       "0                 0  ...                  0                0   \n",
       "1                 1  ...                  0                0   \n",
       "2                 0  ...                  0                0   \n",
       "3                 0  ...                  0                0   \n",
       "4                 0  ...                  0                0   \n",
       "\n",
       "   platforms_sundancenow  platforms_syfy_tveverywhere  platforms_tbs  \\\n",
       "0                      0                            0              0   \n",
       "1                      0                            0              0   \n",
       "2                      0                            0              0   \n",
       "3                      0                            0              0   \n",
       "4                      0                            0              0   \n",
       "\n",
       "   platforms_tnt  platforms_trutv_tveverywhere  platforms_urbanmoviechannel  \\\n",
       "0              0                             0                            0   \n",
       "1              0                             0                            0   \n",
       "2              0                             0                            0   \n",
       "3              0                             0                            0   \n",
       "4              0                             0                            0   \n",
       "\n",
       "   platforms_velocity_go  platforms_watch_tcm  \n",
       "0                      0                    0  \n",
       "1                      0                    0  \n",
       "2                      0                    0  \n",
       "3                      0                    0  \n",
       "4                      0                    0  \n",
       "\n",
       "[5 rows x 75 columns]"
      ]
     },
     "execution_count": 4,
     "metadata": {},
     "output_type": "execute_result"
    }
   ],
   "source": [
    "HBO_max_content.head()"
   ]
  },
  {
   "cell_type": "code",
   "execution_count": 5,
   "metadata": {},
   "outputs": [
    {
     "name": "stdout",
     "output_type": "stream",
     "text": [
      "<class 'pandas.core.frame.DataFrame'>\n",
      "RangeIndex: 2087 entries, 0 to 2086\n",
      "Data columns (total 75 columns):\n",
      " #   Column                                Non-Null Count  Dtype  \n",
      "---  ------                                --------------  -----  \n",
      " 0   title                                 2087 non-null   object \n",
      " 1   type                                  375 non-null    object \n",
      " 2   year                                  2087 non-null   int64  \n",
      " 3   rating                                1537 non-null   object \n",
      " 4   imdb_score                            2025 non-null   float64\n",
      " 5   rotten_score                          1365 non-null   float64\n",
      " 6   decade                                2087 non-null   object \n",
      " 7   imdb_bucket                           2025 non-null   object \n",
      " 8   genres_Action_Adventure               2087 non-null   int64  \n",
      " 9   genres_Animation                      2087 non-null   int64  \n",
      " 10  genres_Anime                          2087 non-null   int64  \n",
      " 11  genres_Biography                      2087 non-null   int64  \n",
      " 12  genres_Children                       2087 non-null   int64  \n",
      " 13  genres_Comedy                         2087 non-null   int64  \n",
      " 14  genres_Crime                          2087 non-null   int64  \n",
      " 15  genres_Cult                           2087 non-null   int64  \n",
      " 16  genres_Documentary                    2087 non-null   int64  \n",
      " 17  genres_Drama                          2087 non-null   int64  \n",
      " 18  genres_Family                         2087 non-null   int64  \n",
      " 19  genres_Fantasy                        2087 non-null   int64  \n",
      " 20  genres_Food                           2087 non-null   int64  \n",
      " 21  genres_Game Show                      2087 non-null   int64  \n",
      " 22  genres_History                        2087 non-null   int64  \n",
      " 23  genres_Home_Garden                    2087 non-null   int64  \n",
      " 24  genres_Horror                         2087 non-null   int64  \n",
      " 25  genres_Independent                    2087 non-null   int64  \n",
      " 26  genres_LGBTQ                          2087 non-null   int64  \n",
      " 27  genres_Musical                        2087 non-null   int64  \n",
      " 28  genres_Mystery                        2087 non-null   int64  \n",
      " 29  genres_Reality                        2087 non-null   int64  \n",
      " 30  genres_Romance                        2087 non-null   int64  \n",
      " 31  genres_Science_Fiction                2087 non-null   int64  \n",
      " 32  genres_Sport                          2087 non-null   int64  \n",
      " 33  genres_Stand_up_Talk                  2087 non-null   int64  \n",
      " 34  genres_Thriller                       2087 non-null   int64  \n",
      " 35  genres_Travel                         2087 non-null   int64  \n",
      " 36  platforms_acorntv                     2087 non-null   int64  \n",
      " 37  platforms_adult_swim_tveverywhere     2087 non-null   int64  \n",
      " 38  platforms_amazon_prime                2087 non-null   int64  \n",
      " 39  platforms_amc                         2087 non-null   int64  \n",
      " 40  platforms_amc_premiere                2087 non-null   int64  \n",
      " 41  platforms_bbc_america_tve             2087 non-null   int64  \n",
      " 42  platforms_britbox                     2087 non-null   int64  \n",
      " 43  platforms_cartoon_network             2087 non-null   int64  \n",
      " 44  platforms_cbs_all_access              2087 non-null   int64  \n",
      " 45  platforms_cinemax                     2087 non-null   int64  \n",
      " 46  platforms_comedycentral_tveverywhere  2087 non-null   int64  \n",
      " 47  platforms_criterion_channel           2087 non-null   int64  \n",
      " 48  platforms_crunchyroll_premium         2087 non-null   int64  \n",
      " 49  platforms_curiositystream             2087 non-null   int64  \n",
      " 50  platforms_dc_universe                 2087 non-null   int64  \n",
      " 51  platforms_epix                        2087 non-null   int64  \n",
      " 52  platforms_fandor                      2087 non-null   int64  \n",
      " 53  platforms_free                        2087 non-null   int64  \n",
      " 54  platforms_fubo_tv                     2087 non-null   int64  \n",
      " 55  platforms_funimation                  2087 non-null   int64  \n",
      " 56  platforms_hbo                         2087 non-null   int64  \n",
      " 57  platforms_hbo_max                     2087 non-null   int64  \n",
      " 58  platforms_hoopla                      2087 non-null   int64  \n",
      " 59  platforms_hulu_plus                   2087 non-null   int64  \n",
      " 60  platforms_kanopy                      2087 non-null   int64  \n",
      " 61  platforms_nbc_tveverywhere            2087 non-null   int64  \n",
      " 62  platforms_netflix                     2087 non-null   int64  \n",
      " 63  platforms_shoutfactorytv              2087 non-null   int64  \n",
      " 64  platforms_showtime                    2087 non-null   int64  \n",
      " 65  platforms_shudder                     2087 non-null   int64  \n",
      " 66  platforms_starz                       2087 non-null   int64  \n",
      " 67  platforms_sundancenow                 2087 non-null   int64  \n",
      " 68  platforms_syfy_tveverywhere           2087 non-null   int64  \n",
      " 69  platforms_tbs                         2087 non-null   int64  \n",
      " 70  platforms_tnt                         2087 non-null   int64  \n",
      " 71  platforms_trutv_tveverywhere          2087 non-null   int64  \n",
      " 72  platforms_urbanmoviechannel           2087 non-null   int64  \n",
      " 73  platforms_velocity_go                 2087 non-null   int64  \n",
      " 74  platforms_watch_tcm                   2087 non-null   int64  \n",
      "dtypes: float64(2), int64(68), object(5)\n",
      "memory usage: 1.2+ MB\n"
     ]
    }
   ],
   "source": [
    "HBO_max_content.info()"
   ]
  },
  {
   "cell_type": "code",
   "execution_count": 6,
   "metadata": {},
   "outputs": [
    {
     "data": {
      "text/plain": [
       "12"
      ]
     },
     "execution_count": 6,
     "metadata": {},
     "output_type": "execute_result"
    }
   ],
   "source": [
    "HBO_max_content.duplicated().sum() #check for duplicated records"
   ]
  },
  {
   "cell_type": "code",
   "execution_count": 7,
   "metadata": {},
   "outputs": [],
   "source": [
    "HBO_max_content.drop_duplicates(keep='first',inplace=True) #remove duplicated records but keep first"
   ]
  },
  {
   "cell_type": "code",
   "execution_count": 8,
   "metadata": {},
   "outputs": [
    {
     "data": {
      "text/plain": [
       "0"
      ]
     },
     "execution_count": 8,
     "metadata": {},
     "output_type": "execute_result"
    }
   ],
   "source": [
    "HBO_max_content.duplicated().sum() #sanity check"
   ]
  },
  {
   "cell_type": "markdown",
   "metadata": {},
   "source": [
    "We need to look at the NaN entries in \"type\""
   ]
  },
  {
   "cell_type": "code",
   "execution_count": 9,
   "metadata": {
    "scrolled": true
   },
   "outputs": [
    {
     "data": {
      "text/plain": [
       "TV    373\n",
       "Name: type, dtype: int64"
      ]
     },
     "execution_count": 9,
     "metadata": {},
     "output_type": "execute_result"
    }
   ],
   "source": [
    "HBO_max_content['type'].value_counts()"
   ]
  },
  {
   "cell_type": "markdown",
   "metadata": {},
   "source": [
    "Since we can see from the head movies have a NaN value in the 'type' column and no other categories are present we can fill the NaN entries as Movies/Other.\n",
    "\n"
   ]
  },
  {
   "cell_type": "code",
   "execution_count": 10,
   "metadata": {
    "scrolled": true
   },
   "outputs": [],
   "source": [
    "HBO_max_content['type'] = HBO_max_content[\"type\"].fillna('Movies/Other') #fill NaN with Movies/Other"
   ]
  },
  {
   "cell_type": "code",
   "execution_count": 11,
   "metadata": {
    "scrolled": true
   },
   "outputs": [
    {
     "data": {
      "text/plain": [
       "[0.8202409638554217, 0.1797590361445783]"
      ]
     },
     "execution_count": 11,
     "metadata": {},
     "output_type": "execute_result"
    }
   ],
   "source": [
    "HBO_counts = HBO_max_content['type'].value_counts(normalize=True).tolist()\n",
    "HBO_counts"
   ]
  },
  {
   "cell_type": "markdown",
   "metadata": {},
   "source": [
    "## Performance metric"
   ]
  },
  {
   "cell_type": "markdown",
   "metadata": {},
   "source": [
    "Now we. need to look at the performace metric in the data. We have both Rotten Tomato scores and IMDB scores.\n",
    "Are they correlated?"
   ]
  },
  {
   "cell_type": "code",
   "execution_count": 12,
   "metadata": {},
   "outputs": [
    {
     "data": {
      "image/png": "[encoded data removed]",
      "text/plain": [
       "<Figure size 432x288 with 1 Axes>"
      ]
     },
     "metadata": {},
     "output_type": "display_data"
    }
   ],
   "source": [
    "with plt.xkcd():\n",
    "    fig, ax = plt.subplots()\n",
    "\n",
    "    X = HBO_max_content['imdb_score']*10 # *10 used to scale score to be the same as rotten score\n",
    "    y = HBO_max_content['rotten_score']\n",
    "    ax.scatter(X, y)\n",
    "    ax.set_title('Correlation between Rotten Tomato and IMDB scores')\n",
    "    ax.set_xlabel('IMDB Score (x10)')  \n",
    "    ax.set_ylabel('Rotten Tomato Score')\n",
    "    ax.annotate('minimum!', xy=(0, 0), xytext=(1, -4),\n",
    "                arrowprops={'facecolor': 'black'})"
   ]
  },
  {
   "cell_type": "markdown",
   "metadata": {},
   "source": [
    "Looks like these score have a descent positive correlation. Maybe one will have a higher resolution. Let's check."
   ]
  },
  {
   "cell_type": "code",
   "execution_count": 13,
   "metadata": {},
   "outputs": [],
   "source": [
    "Top_10_imdb = HBO_max_content.sort_values(by= ['imdb_score'],ascending=False).head(10)"
   ]
  },
  {
   "cell_type": "code",
   "execution_count": 14,
   "metadata": {},
   "outputs": [
    {
     "data": {
      "text/plain": [
       "1592    9.9\n",
       "1669    9.8\n",
       "8       9.4\n",
       "23      9.4\n",
       "0       9.3\n",
       "16      9.3\n",
       "1       9.2\n",
       "30      9.2\n",
       "1100    9.2\n",
       "1677    9.2\n",
       "Name: imdb_score, dtype: float64"
      ]
     },
     "execution_count": 14,
     "metadata": {},
     "output_type": "execute_result"
    }
   ],
   "source": [
    "Top_10_imdb['imdb_score']"
   ]
  },
  {
   "cell_type": "code",
   "execution_count": 15,
   "metadata": {},
   "outputs": [],
   "source": [
    "Top_10_rt = HBO_max_content.sort_values(by= ['rotten_score'],ascending=False).head(10)"
   ]
  },
  {
   "cell_type": "code",
   "execution_count": 16,
   "metadata": {},
   "outputs": [
    {
     "data": {
      "text/plain": [
       "864    100.0\n",
       "286    100.0\n",
       "901    100.0\n",
       "877    100.0\n",
       "874    100.0\n",
       "873    100.0\n",
       "258    100.0\n",
       "870    100.0\n",
       "262    100.0\n",
       "869    100.0\n",
       "Name: rotten_score, dtype: float64"
      ]
     },
     "execution_count": 16,
     "metadata": {},
     "output_type": "execute_result"
    }
   ],
   "source": [
    "Top_10_rt['rotten_score']"
   ]
  },
  {
   "cell_type": "markdown",
   "metadata": {},
   "source": [
    "Looking the the two scoring columns. We have seen that these score are positively correlated but the rotten tomato scores have hundreds more null values and lack resolution for the top scores which we will be using in our analaysis. Moving forward we will use IMDB scores as our preformace metric."
   ]
  },
  {
   "cell_type": "code",
   "execution_count": 17,
   "metadata": {},
   "outputs": [],
   "source": [
    "#Create df of top 100 IMDB scores"
   ]
  },
  {
   "cell_type": "code",
   "execution_count": 18,
   "metadata": {},
   "outputs": [],
   "source": [
    "Top_100_HBO = HBO_max_content.sort_values(by= ['imdb_score'],ascending=False).head(100) "
   ]
  },
  {
   "cell_type": "code",
   "execution_count": 19,
   "metadata": {},
   "outputs": [],
   "source": [
    "top_100_counts = Top_100_HBO['type'].value_counts().tolist() # collect counts by type"
   ]
  },
  {
   "cell_type": "code",
   "execution_count": 20,
   "metadata": {},
   "outputs": [
    {
     "data": {
      "text/html": [
       "<div>\n",
       "<style scoped>\n",
       "    .dataframe tbody tr th:only-of-type {\n",
       "        vertical-align: middle;\n",
       "    }\n",
       "\n",
       "    .dataframe tbody tr th {\n",
       "        vertical-align: top;\n",
       "    }\n",
       "\n",
       "    .dataframe thead th {\n",
       "        text-align: right;\n",
       "    }\n",
       "</style>\n",
       "<table border=\"1\" class=\"dataframe\">\n",
       "  <thead>\n",
       "    <tr style=\"text-align: right;\">\n",
       "      <th></th>\n",
       "      <th>title</th>\n",
       "      <th>type</th>\n",
       "      <th>year</th>\n",
       "      <th>rating</th>\n",
       "      <th>imdb_score</th>\n",
       "      <th>rotten_score</th>\n",
       "      <th>decade</th>\n",
       "      <th>imdb_bucket</th>\n",
       "      <th>genres_Action_Adventure</th>\n",
       "      <th>genres_Animation</th>\n",
       "      <th>...</th>\n",
       "      <th>platforms_shudder</th>\n",
       "      <th>platforms_starz</th>\n",
       "      <th>platforms_sundancenow</th>\n",
       "      <th>platforms_syfy_tveverywhere</th>\n",
       "      <th>platforms_tbs</th>\n",
       "      <th>platforms_tnt</th>\n",
       "      <th>platforms_trutv_tveverywhere</th>\n",
       "      <th>platforms_urbanmoviechannel</th>\n",
       "      <th>platforms_velocity_go</th>\n",
       "      <th>platforms_watch_tcm</th>\n",
       "    </tr>\n",
       "  </thead>\n",
       "  <tbody>\n",
       "    <tr>\n",
       "      <th>1592</th>\n",
       "      <td>El Astronauta</td>\n",
       "      <td>Movies/Other</td>\n",
       "      <td>2018</td>\n",
       "      <td>PG/TV-PG</td>\n",
       "      <td>9.9</td>\n",
       "      <td>NaN</td>\n",
       "      <td>2010-2019</td>\n",
       "      <td>9.51-10</td>\n",
       "      <td>0</td>\n",
       "      <td>0</td>\n",
       "      <td>...</td>\n",
       "      <td>0</td>\n",
       "      <td>0</td>\n",
       "      <td>0</td>\n",
       "      <td>0</td>\n",
       "      <td>0</td>\n",
       "      <td>0</td>\n",
       "      <td>0</td>\n",
       "      <td>0</td>\n",
       "      <td>0</td>\n",
       "      <td>0</td>\n",
       "    </tr>\n",
       "    <tr>\n",
       "      <th>1669</th>\n",
       "      <td>Wonder</td>\n",
       "      <td>Movies/Other</td>\n",
       "      <td>2019</td>\n",
       "      <td>NaN</td>\n",
       "      <td>9.8</td>\n",
       "      <td>NaN</td>\n",
       "      <td>2010-2019</td>\n",
       "      <td>9.51-10</td>\n",
       "      <td>0</td>\n",
       "      <td>0</td>\n",
       "      <td>...</td>\n",
       "      <td>0</td>\n",
       "      <td>0</td>\n",
       "      <td>0</td>\n",
       "      <td>0</td>\n",
       "      <td>0</td>\n",
       "      <td>0</td>\n",
       "      <td>0</td>\n",
       "      <td>0</td>\n",
       "      <td>0</td>\n",
       "      <td>0</td>\n",
       "    </tr>\n",
       "    <tr>\n",
       "      <th>8</th>\n",
       "      <td>Chernobyl</td>\n",
       "      <td>TV</td>\n",
       "      <td>2019</td>\n",
       "      <td>R/TV-MA</td>\n",
       "      <td>9.4</td>\n",
       "      <td>96.0</td>\n",
       "      <td>2010-2019</td>\n",
       "      <td>9.01-9.50</td>\n",
       "      <td>0</td>\n",
       "      <td>0</td>\n",
       "      <td>...</td>\n",
       "      <td>0</td>\n",
       "      <td>0</td>\n",
       "      <td>0</td>\n",
       "      <td>0</td>\n",
       "      <td>0</td>\n",
       "      <td>0</td>\n",
       "      <td>0</td>\n",
       "      <td>0</td>\n",
       "      <td>0</td>\n",
       "      <td>0</td>\n",
       "    </tr>\n",
       "    <tr>\n",
       "      <th>23</th>\n",
       "      <td>Band of Brothers</td>\n",
       "      <td>TV</td>\n",
       "      <td>2001</td>\n",
       "      <td>R/TV-MA</td>\n",
       "      <td>9.4</td>\n",
       "      <td>94.0</td>\n",
       "      <td>2000-2009</td>\n",
       "      <td>9.01-9.50</td>\n",
       "      <td>1</td>\n",
       "      <td>0</td>\n",
       "      <td>...</td>\n",
       "      <td>0</td>\n",
       "      <td>0</td>\n",
       "      <td>0</td>\n",
       "      <td>0</td>\n",
       "      <td>0</td>\n",
       "      <td>0</td>\n",
       "      <td>0</td>\n",
       "      <td>0</td>\n",
       "      <td>0</td>\n",
       "      <td>0</td>\n",
       "    </tr>\n",
       "    <tr>\n",
       "      <th>0</th>\n",
       "      <td>Game of Thrones</td>\n",
       "      <td>TV</td>\n",
       "      <td>2011</td>\n",
       "      <td>R/TV-MA</td>\n",
       "      <td>9.3</td>\n",
       "      <td>89.0</td>\n",
       "      <td>2010-2019</td>\n",
       "      <td>9.01-9.50</td>\n",
       "      <td>1</td>\n",
       "      <td>0</td>\n",
       "      <td>...</td>\n",
       "      <td>0</td>\n",
       "      <td>0</td>\n",
       "      <td>0</td>\n",
       "      <td>0</td>\n",
       "      <td>0</td>\n",
       "      <td>0</td>\n",
       "      <td>0</td>\n",
       "      <td>0</td>\n",
       "      <td>0</td>\n",
       "      <td>0</td>\n",
       "    </tr>\n",
       "    <tr>\n",
       "      <th>16</th>\n",
       "      <td>The Wire</td>\n",
       "      <td>TV</td>\n",
       "      <td>2002</td>\n",
       "      <td>R/TV-MA</td>\n",
       "      <td>9.3</td>\n",
       "      <td>94.0</td>\n",
       "      <td>2000-2009</td>\n",
       "      <td>9.01-9.50</td>\n",
       "      <td>0</td>\n",
       "      <td>0</td>\n",
       "      <td>...</td>\n",
       "      <td>0</td>\n",
       "      <td>0</td>\n",
       "      <td>0</td>\n",
       "      <td>0</td>\n",
       "      <td>0</td>\n",
       "      <td>0</td>\n",
       "      <td>0</td>\n",
       "      <td>0</td>\n",
       "      <td>0</td>\n",
       "      <td>0</td>\n",
       "    </tr>\n",
       "    <tr>\n",
       "      <th>1</th>\n",
       "      <td>Rick and Morty</td>\n",
       "      <td>TV</td>\n",
       "      <td>2013</td>\n",
       "      <td>R/TV-MA</td>\n",
       "      <td>9.2</td>\n",
       "      <td>94.0</td>\n",
       "      <td>2010-2019</td>\n",
       "      <td>9.01-9.50</td>\n",
       "      <td>1</td>\n",
       "      <td>1</td>\n",
       "      <td>...</td>\n",
       "      <td>0</td>\n",
       "      <td>0</td>\n",
       "      <td>0</td>\n",
       "      <td>0</td>\n",
       "      <td>0</td>\n",
       "      <td>0</td>\n",
       "      <td>0</td>\n",
       "      <td>0</td>\n",
       "      <td>0</td>\n",
       "      <td>0</td>\n",
       "    </tr>\n",
       "    <tr>\n",
       "      <th>30</th>\n",
       "      <td>The Sopranos</td>\n",
       "      <td>TV</td>\n",
       "      <td>1999</td>\n",
       "      <td>R/TV-MA</td>\n",
       "      <td>9.2</td>\n",
       "      <td>92.0</td>\n",
       "      <td>1990-1999</td>\n",
       "      <td>9.01-9.50</td>\n",
       "      <td>0</td>\n",
       "      <td>0</td>\n",
       "      <td>...</td>\n",
       "      <td>0</td>\n",
       "      <td>0</td>\n",
       "      <td>0</td>\n",
       "      <td>0</td>\n",
       "      <td>0</td>\n",
       "      <td>0</td>\n",
       "      <td>0</td>\n",
       "      <td>0</td>\n",
       "      <td>0</td>\n",
       "      <td>0</td>\n",
       "    </tr>\n",
       "    <tr>\n",
       "      <th>1100</th>\n",
       "      <td>The World Between Us</td>\n",
       "      <td>TV</td>\n",
       "      <td>2019</td>\n",
       "      <td>NaN</td>\n",
       "      <td>9.2</td>\n",
       "      <td>NaN</td>\n",
       "      <td>2010-2019</td>\n",
       "      <td>9.01-9.50</td>\n",
       "      <td>0</td>\n",
       "      <td>0</td>\n",
       "      <td>...</td>\n",
       "      <td>0</td>\n",
       "      <td>0</td>\n",
       "      <td>0</td>\n",
       "      <td>0</td>\n",
       "      <td>0</td>\n",
       "      <td>0</td>\n",
       "      <td>0</td>\n",
       "      <td>0</td>\n",
       "      <td>0</td>\n",
       "      <td>0</td>\n",
       "    </tr>\n",
       "    <tr>\n",
       "      <th>1677</th>\n",
       "      <td>Wednesday</td>\n",
       "      <td>Movies/Other</td>\n",
       "      <td>2020</td>\n",
       "      <td>NaN</td>\n",
       "      <td>9.2</td>\n",
       "      <td>NaN</td>\n",
       "      <td>2020-2029</td>\n",
       "      <td>9.01-9.50</td>\n",
       "      <td>0</td>\n",
       "      <td>0</td>\n",
       "      <td>...</td>\n",
       "      <td>0</td>\n",
       "      <td>0</td>\n",
       "      <td>0</td>\n",
       "      <td>0</td>\n",
       "      <td>0</td>\n",
       "      <td>0</td>\n",
       "      <td>0</td>\n",
       "      <td>0</td>\n",
       "      <td>0</td>\n",
       "      <td>0</td>\n",
       "    </tr>\n",
       "  </tbody>\n",
       "</table>\n",
       "<p>10 rows × 75 columns</p>\n",
       "</div>"
      ],
      "text/plain": [
       "                     title          type  year    rating  imdb_score  \\\n",
       "1592         El Astronauta  Movies/Other  2018  PG/TV-PG         9.9   \n",
       "1669                Wonder  Movies/Other  2019       NaN         9.8   \n",
       "8                Chernobyl            TV  2019   R/TV-MA         9.4   \n",
       "23        Band of Brothers            TV  2001   R/TV-MA         9.4   \n",
       "0          Game of Thrones            TV  2011   R/TV-MA         9.3   \n",
       "16                The Wire            TV  2002   R/TV-MA         9.3   \n",
       "1           Rick and Morty            TV  2013   R/TV-MA         9.2   \n",
       "30            The Sopranos            TV  1999   R/TV-MA         9.2   \n",
       "1100  The World Between Us            TV  2019       NaN         9.2   \n",
       "1677             Wednesday  Movies/Other  2020       NaN         9.2   \n",
       "\n",
       "      rotten_score     decade imdb_bucket  genres_Action_Adventure  \\\n",
       "1592           NaN  2010-2019     9.51-10                        0   \n",
       "1669           NaN  2010-2019     9.51-10                        0   \n",
       "8             96.0  2010-2019   9.01-9.50                        0   \n",
       "23            94.0  2000-2009   9.01-9.50                        1   \n",
       "0             89.0  2010-2019   9.01-9.50                        1   \n",
       "16            94.0  2000-2009   9.01-9.50                        0   \n",
       "1             94.0  2010-2019   9.01-9.50                        1   \n",
       "30            92.0  1990-1999   9.01-9.50                        0   \n",
       "1100           NaN  2010-2019   9.01-9.50                        0   \n",
       "1677           NaN  2020-2029   9.01-9.50                        0   \n",
       "\n",
       "      genres_Animation  ...  platforms_shudder  platforms_starz  \\\n",
       "1592                 0  ...                  0                0   \n",
       "1669                 0  ...                  0                0   \n",
       "8                    0  ...                  0                0   \n",
       "23                   0  ...                  0                0   \n",
       "0                    0  ...                  0                0   \n",
       "16                   0  ...                  0                0   \n",
       "1                    1  ...                  0                0   \n",
       "30                   0  ...                  0                0   \n",
       "1100                 0  ...                  0                0   \n",
       "1677                 0  ...                  0                0   \n",
       "\n",
       "      platforms_sundancenow  platforms_syfy_tveverywhere  platforms_tbs  \\\n",
       "1592                      0                            0              0   \n",
       "1669                      0                            0              0   \n",
       "8                         0                            0              0   \n",
       "23                        0                            0              0   \n",
       "0                         0                            0              0   \n",
       "16                        0                            0              0   \n",
       "1                         0                            0              0   \n",
       "30                        0                            0              0   \n",
       "1100                      0                            0              0   \n",
       "1677                      0                            0              0   \n",
       "\n",
       "      platforms_tnt  platforms_trutv_tveverywhere  \\\n",
       "1592              0                             0   \n",
       "1669              0                             0   \n",
       "8                 0                             0   \n",
       "23                0                             0   \n",
       "0                 0                             0   \n",
       "16                0                             0   \n",
       "1                 0                             0   \n",
       "30                0                             0   \n",
       "1100              0                             0   \n",
       "1677              0                             0   \n",
       "\n",
       "      platforms_urbanmoviechannel  platforms_velocity_go  platforms_watch_tcm  \n",
       "1592                            0                      0                    0  \n",
       "1669                            0                      0                    0  \n",
       "8                               0                      0                    0  \n",
       "23                              0                      0                    0  \n",
       "0                               0                      0                    0  \n",
       "16                              0                      0                    0  \n",
       "1                               0                      0                    0  \n",
       "30                              0                      0                    0  \n",
       "1100                            0                      0                    0  \n",
       "1677                            0                      0                    0  \n",
       "\n",
       "[10 rows x 75 columns]"
      ]
     },
     "execution_count": 20,
     "metadata": {},
     "output_type": "execute_result"
    }
   ],
   "source": [
    "Top_100_HBO.head(10)"
   ]
  },
  {
   "cell_type": "code",
   "execution_count": 21,
   "metadata": {},
   "outputs": [],
   "source": [
    "# Load Netflix data"
   ]
  },
  {
   "cell_type": "code",
   "execution_count": 22,
   "metadata": {},
   "outputs": [],
   "source": [
    "Netflix_data = pd.read_csv('./zippedData/netflix_titles.csv')"
   ]
  },
  {
   "cell_type": "code",
   "execution_count": 23,
   "metadata": {},
   "outputs": [
    {
     "data": {
      "text/html": [
       "<div>\n",
       "<style scoped>\n",
       "    .dataframe tbody tr th:only-of-type {\n",
       "        vertical-align: middle;\n",
       "    }\n",
       "\n",
       "    .dataframe tbody tr th {\n",
       "        vertical-align: top;\n",
       "    }\n",
       "\n",
       "    .dataframe thead th {\n",
       "        text-align: right;\n",
       "    }\n",
       "</style>\n",
       "<table border=\"1\" class=\"dataframe\">\n",
       "  <thead>\n",
       "    <tr style=\"text-align: right;\">\n",
       "      <th></th>\n",
       "      <th>show_id</th>\n",
       "      <th>type</th>\n",
       "      <th>title</th>\n",
       "      <th>director</th>\n",
       "      <th>cast</th>\n",
       "      <th>country</th>\n",
       "      <th>date_added</th>\n",
       "      <th>release_year</th>\n",
       "      <th>rating</th>\n",
       "      <th>duration</th>\n",
       "      <th>listed_in</th>\n",
       "      <th>description</th>\n",
       "    </tr>\n",
       "  </thead>\n",
       "  <tbody>\n",
       "    <tr>\n",
       "      <th>0</th>\n",
       "      <td>s1</td>\n",
       "      <td>Movie</td>\n",
       "      <td>Dick Johnson Is Dead</td>\n",
       "      <td>Kirsten Johnson</td>\n",
       "      <td>NaN</td>\n",
       "      <td>United States</td>\n",
       "      <td>September 25, 2021</td>\n",
       "      <td>2020</td>\n",
       "      <td>PG-13</td>\n",
       "      <td>90 min</td>\n",
       "      <td>Documentaries</td>\n",
       "      <td>As her father nears the end of his life, filmm...</td>\n",
       "    </tr>\n",
       "    <tr>\n",
       "      <th>1</th>\n",
       "      <td>s2</td>\n",
       "      <td>TV Show</td>\n",
       "      <td>Blood &amp; Water</td>\n",
       "      <td>NaN</td>\n",
       "      <td>Ama Qamata, Khosi Ngema, Gail Mabalane, Thaban...</td>\n",
       "      <td>South Africa</td>\n",
       "      <td>September 24, 2021</td>\n",
       "      <td>2021</td>\n",
       "      <td>TV-MA</td>\n",
       "      <td>2 Seasons</td>\n",
       "      <td>International TV Shows, TV Dramas, TV Mysteries</td>\n",
       "      <td>After crossing paths at a party, a Cape Town t...</td>\n",
       "    </tr>\n",
       "    <tr>\n",
       "      <th>2</th>\n",
       "      <td>s3</td>\n",
       "      <td>TV Show</td>\n",
       "      <td>Ganglands</td>\n",
       "      <td>Julien Leclercq</td>\n",
       "      <td>Sami Bouajila, Tracy Gotoas, Samuel Jouy, Nabi...</td>\n",
       "      <td>NaN</td>\n",
       "      <td>September 24, 2021</td>\n",
       "      <td>2021</td>\n",
       "      <td>TV-MA</td>\n",
       "      <td>1 Season</td>\n",
       "      <td>Crime TV Shows, International TV Shows, TV Act...</td>\n",
       "      <td>To protect his family from a powerful drug lor...</td>\n",
       "    </tr>\n",
       "    <tr>\n",
       "      <th>3</th>\n",
       "      <td>s4</td>\n",
       "      <td>TV Show</td>\n",
       "      <td>Jailbirds New Orleans</td>\n",
       "      <td>NaN</td>\n",
       "      <td>NaN</td>\n",
       "      <td>NaN</td>\n",
       "      <td>September 24, 2021</td>\n",
       "      <td>2021</td>\n",
       "      <td>TV-MA</td>\n",
       "      <td>1 Season</td>\n",
       "      <td>Docuseries, Reality TV</td>\n",
       "      <td>Feuds, flirtations and toilet talk go down amo...</td>\n",
       "    </tr>\n",
       "    <tr>\n",
       "      <th>4</th>\n",
       "      <td>s5</td>\n",
       "      <td>TV Show</td>\n",
       "      <td>Kota Factory</td>\n",
       "      <td>NaN</td>\n",
       "      <td>Mayur More, Jitendra Kumar, Ranjan Raj, Alam K...</td>\n",
       "      <td>India</td>\n",
       "      <td>September 24, 2021</td>\n",
       "      <td>2021</td>\n",
       "      <td>TV-MA</td>\n",
       "      <td>2 Seasons</td>\n",
       "      <td>International TV Shows, Romantic TV Shows, TV ...</td>\n",
       "      <td>In a city of coaching centers known to train I...</td>\n",
       "    </tr>\n",
       "  </tbody>\n",
       "</table>\n",
       "</div>"
      ],
      "text/plain": [
       "  show_id     type                  title         director  \\\n",
       "0      s1    Movie   Dick Johnson Is Dead  Kirsten Johnson   \n",
       "1      s2  TV Show          Blood & Water              NaN   \n",
       "2      s3  TV Show              Ganglands  Julien Leclercq   \n",
       "3      s4  TV Show  Jailbirds New Orleans              NaN   \n",
       "4      s5  TV Show           Kota Factory              NaN   \n",
       "\n",
       "                                                cast        country  \\\n",
       "0                                                NaN  United States   \n",
       "1  Ama Qamata, Khosi Ngema, Gail Mabalane, Thaban...   South Africa   \n",
       "2  Sami Bouajila, Tracy Gotoas, Samuel Jouy, Nabi...            NaN   \n",
       "3                                                NaN            NaN   \n",
       "4  Mayur More, Jitendra Kumar, Ranjan Raj, Alam K...          India   \n",
       "\n",
       "           date_added  release_year rating   duration  \\\n",
       "0  September 25, 2021          2020  PG-13     90 min   \n",
       "1  September 24, 2021          2021  TV-MA  2 Seasons   \n",
       "2  September 24, 2021          2021  TV-MA   1 Season   \n",
       "3  September 24, 2021          2021  TV-MA   1 Season   \n",
       "4  September 24, 2021          2021  TV-MA  2 Seasons   \n",
       "\n",
       "                                           listed_in  \\\n",
       "0                                      Documentaries   \n",
       "1    International TV Shows, TV Dramas, TV Mysteries   \n",
       "2  Crime TV Shows, International TV Shows, TV Act...   \n",
       "3                             Docuseries, Reality TV   \n",
       "4  International TV Shows, Romantic TV Shows, TV ...   \n",
       "\n",
       "                                         description  \n",
       "0  As her father nears the end of his life, filmm...  \n",
       "1  After crossing paths at a party, a Cape Town t...  \n",
       "2  To protect his family from a powerful drug lor...  \n",
       "3  Feuds, flirtations and toilet talk go down amo...  \n",
       "4  In a city of coaching centers known to train I...  "
      ]
     },
     "execution_count": 23,
     "metadata": {},
     "output_type": "execute_result"
    }
   ],
   "source": [
    "Netflix_data.head()"
   ]
  },
  {
   "cell_type": "code",
   "execution_count": 24,
   "metadata": {},
   "outputs": [
    {
     "data": {
      "text/plain": [
       "0"
      ]
     },
     "execution_count": 24,
     "metadata": {},
     "output_type": "execute_result"
    }
   ],
   "source": [
    "Netflix_data.duplicated().sum() # check for duplicates"
   ]
  },
  {
   "cell_type": "code",
   "execution_count": 25,
   "metadata": {},
   "outputs": [
    {
     "name": "stdout",
     "output_type": "stream",
     "text": [
      "<class 'pandas.core.frame.DataFrame'>\n",
      "RangeIndex: 8807 entries, 0 to 8806\n",
      "Data columns (total 12 columns):\n",
      " #   Column        Non-Null Count  Dtype \n",
      "---  ------        --------------  ----- \n",
      " 0   show_id       8807 non-null   object\n",
      " 1   type          8807 non-null   object\n",
      " 2   title         8807 non-null   object\n",
      " 3   director      6173 non-null   object\n",
      " 4   cast          7982 non-null   object\n",
      " 5   country       7976 non-null   object\n",
      " 6   date_added    8797 non-null   object\n",
      " 7   release_year  8807 non-null   int64 \n",
      " 8   rating        8803 non-null   object\n",
      " 9   duration      8804 non-null   object\n",
      " 10  listed_in     8807 non-null   object\n",
      " 11  description   8807 non-null   object\n",
      "dtypes: int64(1), object(11)\n",
      "memory usage: 825.8+ KB\n"
     ]
    }
   ],
   "source": [
    "Netflix_data.info()"
   ]
  },
  {
   "cell_type": "code",
   "execution_count": 26,
   "metadata": {},
   "outputs": [],
   "source": [
    "Netflix_counts = Netflix_data['type'].value_counts(normalize=True).tolist() # get values counts by type"
   ]
  },
  {
   "cell_type": "code",
   "execution_count": 27,
   "metadata": {},
   "outputs": [
    {
     "data": {
      "image/png": "[encoded data removed]",
      "text/plain": [
       "<Figure size 432x288 with 1 Axes>"
      ]
     },
     "metadata": {},
     "output_type": "display_data"
    }
   ],
   "source": [
    "# library\n",
    "import matplotlib.pyplot as plt\n",
    "\n",
    "# create data\n",
    "top_100_counts = Top_100_HBO['type'].value_counts().tolist()\n",
    "names = ['TV','Movies/Other']\n",
    "color=['b','r']\n",
    "# Create a pieplot\n",
    "plt.pie(top_100_counts,labels=names,colors=color)\n",
    "plt.title(\"Share of Top 100 IMDB Scores on HBO Max\")\n",
    "# add a circle at the center to transform it in a donut chart\n",
    "my_circle=plt.Circle( (0,0), 0.7, color='white')\n",
    "p=plt.gcf()\n",
    "p.gca().add_artist(my_circle)\n",
    "plt.savefig('./Images/Marshall_pie_chart.png', bbox_inches='tight')\n",
    "plt.show()"
   ]
  },
  {
   "cell_type": "code",
   "execution_count": 28,
   "metadata": {},
   "outputs": [
    {
     "data": {
      "text/plain": [
       "[69.61507891449983, 30.38492108550017]"
      ]
     },
     "execution_count": 28,
     "metadata": {},
     "output_type": "execute_result"
    }
   ],
   "source": [
    "Netflix_counts = [Netflix_counts[0]*100,Netflix_counts[1]*100]\n",
    "Netflix_counts"
   ]
  },
  {
   "cell_type": "code",
   "execution_count": 29,
   "metadata": {},
   "outputs": [
    {
     "data": {
      "text/plain": [
       "[82.02409638554217, 17.97590361445783]"
      ]
     },
     "execution_count": 29,
     "metadata": {},
     "output_type": "execute_result"
    }
   ],
   "source": [
    "HBO_counts = [HBO_counts[0]*100,HBO_counts[1]*100]\n",
    "HBO_counts"
   ]
  },
  {
   "cell_type": "code",
   "execution_count": 30,
   "metadata": {},
   "outputs": [],
   "source": [
    "movie_counts=[Netflix_counts[0],HBO_counts[0]]"
   ]
  },
  {
   "cell_type": "code",
   "execution_count": 31,
   "metadata": {},
   "outputs": [],
   "source": [
    "tv_counts=[Netflix_counts[1],HBO_counts[1]]"
   ]
  },
  {
   "cell_type": "code",
   "execution_count": 32,
   "metadata": {},
   "outputs": [
    {
     "name": "stderr",
     "output_type": "stream",
     "text": [
      "No handles with labels found to put in legend.\n"
     ]
    },
    {
     "data": {
      "image/png": "[encoded data removed]",
      "text/plain": [
       "<Figure size 432x288 with 1 Axes>"
      ]
     },
     "metadata": {
      "needs_background": "light"
     },
     "output_type": "display_data"
    }
   ],
   "source": [
    "# width of the bars\n",
    "barWidth = 0.3\n",
    " \n",
    "# Choose the height of the blue bars\n",
    "bars1 = HBO_counts\n",
    " \n",
    "# Choose the height of the cyan bars\n",
    "bars2 = Netflix_counts\n",
    " \n",
    "\n",
    "\n",
    "r1 = np.arange(len(bars1))\n",
    "r2 = [x + barWidth for x in r1]\n",
    " \n",
    "# Create blue bars\n",
    "plt.bar(r1, bars1, width = barWidth, color = 'darkviolet', edgecolor = 'black', capsize=7, label='HBO')\n",
    " \n",
    "# Create cyan bars\n",
    "plt.bar(r2, bars2, width = barWidth, color = 'red', edgecolor = 'black', capsize=7, label='Netflix')\n",
    " \n",
    "# general layout\n",
    "plt.xticks([r + barWidth for r in range(len(bars1))], ['Movies', 'TV Series'])\n",
    "plt.ylabel('Percent Share')\n",
    "plt.legend()\n",
    "\n",
    "plt.title('Streaming Service Content Allocation')\n",
    "ax.legend()\n",
    "plt.savefig('./Images/Marshall_bar_chart.png', bbox_inches='tight')\n",
    "plt.show() \n",
    "\n"
   ]
  },
  {
   "cell_type": "code",
   "execution_count": null,
   "metadata": {},
   "outputs": [],
   "source": []
  }
 ],
 "metadata": {
  "kernelspec": {
   "display_name": "Python (learn-env)",
   "language": "python",
   "name": "learn-env"
  },
  "language_info": {
   "codemirror_mode": {
    "name": "ipython",
    "version": 3
   },
   "file_extension": ".py",
   "mimetype": "text/x-python",
   "name": "python",
   "nbconvert_exporter": "python",
   "pygments_lexer": "ipython3",
   "version": "3.8.5"
  }
 },
 "nbformat": 4,
 "nbformat_minor": 4
}
